{
 "cells": [
  {
   "cell_type": "markdown",
   "id": "f3a317f3",
   "metadata": {},
   "source": [
    "# Github colab 101\n",
    "\n",
    "Test avec un notebook"
   ]
  },
  {
   "cell_type": "code",
   "execution_count": 1,
   "id": "b0ee6440",
   "metadata": {},
   "outputs": [
    {
     "name": "stdout",
     "output_type": "stream",
     "text": [
      "Hello world !\n"
     ]
    }
   ],
   "source": [
    "# quelques lignes pythons :\n",
    "\n",
    "print('Hello world !')"
   ]
  },
  {
   "cell_type": "code",
   "execution_count": null,
   "id": "201b1197",
   "metadata": {},
   "outputs": [],
   "source": [
    "import pandas as pd\n",
    "\n",
    "df = pd.read_csv('https://raw.githubusercontent.com/OpenClassrooms-Student-Center/github-colab-101/main/data/car.csv')"
   ]
  }
 ],
 "metadata": {
  "kernelspec": {
   "display_name": "Python (Koji-env)",
   "language": "python",
   "name": "koji-env"
  },
  "language_info": {
   "codemirror_mode": {
    "name": "ipython",
    "version": 3
   },
   "file_extension": ".py",
   "mimetype": "text/x-python",
   "name": "python",
   "nbconvert_exporter": "python",
   "pygments_lexer": "ipython3",
   "version": "3.8.12"
  }
 },
 "nbformat": 4,
 "nbformat_minor": 5
}
